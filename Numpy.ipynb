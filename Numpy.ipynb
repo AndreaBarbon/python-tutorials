{
 "cells": [
  {
   "cell_type": "code",
   "execution_count": 295,
   "metadata": {
    "ExecuteTime": {
     "end_time": "2017-08-02T13:01:02.378919Z",
     "start_time": "2017-08-02T13:01:02.368295Z"
    }
   },
   "outputs": [
    {
     "data": {
      "text/plain": [
       "'%.3f'"
      ]
     },
     "execution_count": 295,
     "metadata": {},
     "output_type": "execute_result"
    }
   ],
   "source": [
    "import numpy as np\n",
    "%precision 3"
   ]
  },
  {
   "cell_type": "markdown",
   "metadata": {
    "ExecuteTime": {
     "end_time": "2017-08-01T13:00:32.936046Z",
     "start_time": "2017-08-01T13:00:32.931913Z"
    }
   },
   "source": [
    "# Create arrays"
   ]
  },
  {
   "cell_type": "code",
   "execution_count": 296,
   "metadata": {
    "ExecuteTime": {
     "end_time": "2017-08-02T13:01:02.964640Z",
     "start_time": "2017-08-02T13:01:02.958649Z"
    },
    "collapsed": true
   },
   "outputs": [],
   "source": [
    "x = np.array([ 10, 9 ,-8, 7, 6  ])\n",
    "y = np.array([ 1,  4 , 9, 4, 16 ])"
   ]
  },
  {
   "cell_type": "code",
   "execution_count": 371,
   "metadata": {
    "ExecuteTime": {
     "end_time": "2017-08-03T11:45:41.312543Z",
     "start_time": "2017-08-03T11:45:41.305509Z"
    }
   },
   "outputs": [
    {
     "data": {
      "text/plain": [
       "array([ 0.,  0.,  0.,  0.,  0.])"
      ]
     },
     "execution_count": 371,
     "metadata": {},
     "output_type": "execute_result"
    }
   ],
   "source": [
    "# Array of zeros\n",
    "np.zeros(5)"
   ]
  },
  {
   "cell_type": "code",
   "execution_count": 372,
   "metadata": {
    "ExecuteTime": {
     "end_time": "2017-08-03T11:45:52.459317Z",
     "start_time": "2017-08-03T11:45:52.445080Z"
    }
   },
   "outputs": [
    {
     "data": {
      "text/plain": [
       "array([ 1.,  1.,  1.,  1.,  1.])"
      ]
     },
     "execution_count": 372,
     "metadata": {},
     "output_type": "execute_result"
    }
   ],
   "source": [
    "# Array of ones\n",
    "np.ones(5)"
   ]
  },
  {
   "cell_type": "code",
   "execution_count": 373,
   "metadata": {
    "ExecuteTime": {
     "end_time": "2017-08-03T11:45:58.773229Z",
     "start_time": "2017-08-03T11:45:58.764280Z"
    }
   },
   "outputs": [
    {
     "data": {
      "text/plain": [
       "array([ nan,  nan,  nan,  nan,  nan])"
      ]
     },
     "execution_count": 373,
     "metadata": {},
     "output_type": "execute_result"
    }
   ],
   "source": [
    "# Array of NaN\n",
    "np.zeros(5) * np.nan"
   ]
  },
  {
   "cell_type": "markdown",
   "metadata": {},
   "source": [
    "# Select entries "
   ]
  },
  {
   "cell_type": "markdown",
   "metadata": {},
   "source": [
    "### Position\n",
    "The array index starts from $0$. There are many ways to slice the arrays"
   ]
  },
  {
   "cell_type": "code",
   "execution_count": 297,
   "metadata": {
    "ExecuteTime": {
     "end_time": "2017-08-02T13:01:03.222078Z",
     "start_time": "2017-08-02T13:01:03.213776Z"
    }
   },
   "outputs": [
    {
     "data": {
      "text/plain": [
       "10"
      ]
     },
     "execution_count": 297,
     "metadata": {},
     "output_type": "execute_result"
    }
   ],
   "source": [
    "x[0 ]  # first element"
   ]
  },
  {
   "cell_type": "code",
   "execution_count": 298,
   "metadata": {
    "ExecuteTime": {
     "end_time": "2017-08-02T13:01:03.341956Z",
     "start_time": "2017-08-02T13:01:03.333610Z"
    }
   },
   "outputs": [
    {
     "data": {
      "text/plain": [
       "6"
      ]
     },
     "execution_count": 298,
     "metadata": {},
     "output_type": "execute_result"
    }
   ],
   "source": [
    "x[-1]  # last element"
   ]
  },
  {
   "cell_type": "code",
   "execution_count": 299,
   "metadata": {
    "ExecuteTime": {
     "end_time": "2017-08-02T13:01:03.419823Z",
     "start_time": "2017-08-02T13:01:03.411293Z"
    }
   },
   "outputs": [
    {
     "data": {
      "text/plain": [
       "array([ 9, -8])"
      ]
     },
     "execution_count": 299,
     "metadata": {},
     "output_type": "execute_result"
    }
   ],
   "source": [
    "x[1:3] # from 2nd to 3rd element"
   ]
  },
  {
   "cell_type": "code",
   "execution_count": 300,
   "metadata": {
    "ExecuteTime": {
     "end_time": "2017-08-02T13:01:03.511588Z",
     "start_time": "2017-08-02T13:01:03.503698Z"
    }
   },
   "outputs": [
    {
     "data": {
      "text/plain": [
       "array([10,  9, -8])"
      ]
     },
     "execution_count": 300,
     "metadata": {},
     "output_type": "execute_result"
    }
   ],
   "source": [
    "x[ :3] # from first to 3rd element"
   ]
  },
  {
   "cell_type": "code",
   "execution_count": 301,
   "metadata": {
    "ExecuteTime": {
     "end_time": "2017-08-02T13:01:03.567257Z",
     "start_time": "2017-08-02T13:01:03.558311Z"
    }
   },
   "outputs": [
    {
     "data": {
      "text/plain": [
       "array([-8,  7,  6])"
      ]
     },
     "execution_count": 301,
     "metadata": {},
     "output_type": "execute_result"
    }
   ],
   "source": [
    "x[2: ] # from 3rd to last element"
   ]
  },
  {
   "cell_type": "code",
   "execution_count": 302,
   "metadata": {
    "ExecuteTime": {
     "end_time": "2017-08-02T13:01:03.684941Z",
     "start_time": "2017-08-02T13:01:03.676462Z"
    }
   },
   "outputs": [
    {
     "data": {
      "text/plain": [
       "array([7, 6])"
      ]
     },
     "execution_count": 302,
     "metadata": {},
     "output_type": "execute_result"
    }
   ],
   "source": [
    "x[-2:] # Last 2 elements"
   ]
  },
  {
   "cell_type": "code",
   "execution_count": 303,
   "metadata": {
    "ExecuteTime": {
     "end_time": "2017-08-02T13:01:03.759963Z",
     "start_time": "2017-08-02T13:01:03.752318Z"
    }
   },
   "outputs": [
    {
     "data": {
      "text/plain": [
       "array([10,  9,  7,  6])"
      ]
     },
     "execution_count": 303,
     "metadata": {},
     "output_type": "execute_result"
    }
   ],
   "source": [
    "np.concatenate( [ x[:2], x[-2:] ] ) # first 2 and last 2 elements"
   ]
  },
  {
   "cell_type": "markdown",
   "metadata": {},
   "source": [
    "### Logical conditions"
   ]
  },
  {
   "cell_type": "code",
   "execution_count": 304,
   "metadata": {
    "ExecuteTime": {
     "end_time": "2017-08-02T13:01:03.918260Z",
     "start_time": "2017-08-02T13:01:03.909474Z"
    }
   },
   "outputs": [
    {
     "data": {
      "text/plain": [
       "array([ True,  True, False,  True,  True], dtype=bool)"
      ]
     },
     "execution_count": 304,
     "metadata": {},
     "output_type": "execute_result"
    }
   ],
   "source": [
    "# Imposing a condition on x returns a boolean array\n",
    "x>0"
   ]
  },
  {
   "cell_type": "code",
   "execution_count": 305,
   "metadata": {
    "ExecuteTime": {
     "end_time": "2017-08-02T13:01:04.017089Z",
     "start_time": "2017-08-02T13:01:04.009554Z"
    }
   },
   "outputs": [
    {
     "data": {
      "text/plain": [
       "array([10,  9,  7,  6])"
      ]
     },
     "execution_count": 305,
     "metadata": {},
     "output_type": "execute_result"
    }
   ],
   "source": [
    "# and a boolean array can be used as a mask to extract the entries of an array (x itself in this case)\n",
    "x[x>0]"
   ]
  },
  {
   "cell_type": "code",
   "execution_count": 306,
   "metadata": {
    "ExecuteTime": {
     "end_time": "2017-08-02T13:01:04.111842Z",
     "start_time": "2017-08-02T13:01:04.100773Z"
    }
   },
   "outputs": [
    {
     "data": {
      "text/plain": [
       "array([-8,  7])"
      ]
     },
     "execution_count": 306,
     "metadata": {},
     "output_type": "execute_result"
    }
   ],
   "source": [
    "# We can also define the mask ourselves, by hand:\n",
    "mask = np.array([ False, False, True, True, False ])\n",
    "\n",
    "# and use it on x\n",
    "x[mask]"
   ]
  },
  {
   "cell_type": "code",
   "execution_count": 307,
   "metadata": {
    "ExecuteTime": {
     "end_time": "2017-08-02T13:01:04.209854Z",
     "start_time": "2017-08-02T13:01:04.202985Z"
    }
   },
   "outputs": [
    {
     "data": {
      "text/plain": [
       "array([9, 4])"
      ]
     },
     "execution_count": 307,
     "metadata": {},
     "output_type": "execute_result"
    }
   ],
   "source": [
    "# or on y (this is possible because x and y have the same number of elements)\n",
    "y[mask]"
   ]
  },
  {
   "cell_type": "code",
   "execution_count": 308,
   "metadata": {
    "ExecuteTime": {
     "end_time": "2017-08-02T13:01:04.279515Z",
     "start_time": "2017-08-02T13:01:04.271041Z"
    }
   },
   "outputs": [
    {
     "data": {
      "text/plain": [
       "array([9, 7, 6])"
      ]
     },
     "execution_count": 308,
     "metadata": {},
     "output_type": "execute_result"
    }
   ],
   "source": [
    "# masks can be more complicated\n",
    "mask = (x<=9) & (x>=6)\n",
    "x[mask]"
   ]
  },
  {
   "cell_type": "code",
   "execution_count": 309,
   "metadata": {
    "ExecuteTime": {
     "end_time": "2017-08-02T13:01:04.385716Z",
     "start_time": "2017-08-02T13:01:04.375143Z"
    }
   },
   "outputs": [
    {
     "data": {
      "text/plain": [
       "array([10])"
      ]
     },
     "execution_count": 309,
     "metadata": {},
     "output_type": "execute_result"
    }
   ],
   "source": [
    "# and can be based on conditions on both x and y\n",
    "mask = (x > 2*y) & (y>0) & (x>9)\n",
    "x[mask]"
   ]
  },
  {
   "cell_type": "code",
   "execution_count": 310,
   "metadata": {
    "ExecuteTime": {
     "end_time": "2017-08-02T13:01:04.513586Z",
     "start_time": "2017-08-02T13:01:04.503208Z"
    }
   },
   "outputs": [
    {
     "data": {
      "text/plain": [
       "array([10, -8,  7])"
      ]
     },
     "execution_count": 310,
     "metadata": {},
     "output_type": "execute_result"
    }
   ],
   "source": [
    "# or on other vectors\n",
    "z = np.array([1,2,31,34,5])\n",
    "mask = (z>30) | (z==1)    # '|' stands for 'OR' here\n",
    "x[mask]"
   ]
  },
  {
   "cell_type": "markdown",
   "metadata": {},
   "source": [
    "# Aggregating Functions\n",
    "They collapse an array to a number"
   ]
  },
  {
   "cell_type": "code",
   "execution_count": 311,
   "metadata": {
    "ExecuteTime": {
     "end_time": "2017-08-02T13:01:04.610662Z",
     "start_time": "2017-08-02T13:01:04.601828Z"
    }
   },
   "outputs": [
    {
     "data": {
      "text/plain": [
       "4.800"
      ]
     },
     "execution_count": 311,
     "metadata": {},
     "output_type": "execute_result"
    }
   ],
   "source": [
    "np.mean(x) # Average of values"
   ]
  },
  {
   "cell_type": "code",
   "execution_count": 312,
   "metadata": {
    "ExecuteTime": {
     "end_time": "2017-08-02T13:01:04.687645Z",
     "start_time": "2017-08-02T13:01:04.679018Z"
    }
   },
   "outputs": [
    {
     "data": {
      "text/plain": [
       "6.554"
      ]
     },
     "execution_count": 312,
     "metadata": {},
     "output_type": "execute_result"
    }
   ],
   "source": [
    "np.std(x) # Standard deviation (or volatility) of values"
   ]
  },
  {
   "cell_type": "code",
   "execution_count": 313,
   "metadata": {
    "ExecuteTime": {
     "end_time": "2017-08-02T13:01:04.786334Z",
     "start_time": "2017-08-02T13:01:04.772394Z"
    }
   },
   "outputs": [
    {
     "data": {
      "text/plain": [
       "24"
      ]
     },
     "execution_count": 313,
     "metadata": {},
     "output_type": "execute_result"
    }
   ],
   "source": [
    "np.sum(x) # Sum of values"
   ]
  },
  {
   "cell_type": "code",
   "execution_count": 314,
   "metadata": {
    "ExecuteTime": {
     "end_time": "2017-08-02T13:01:04.875038Z",
     "start_time": "2017-08-02T13:01:04.868422Z"
    }
   },
   "outputs": [
    {
     "data": {
      "text/plain": [
       "5"
      ]
     },
     "execution_count": 314,
     "metadata": {},
     "output_type": "execute_result"
    }
   ],
   "source": [
    "np.size(x) # Number of elements"
   ]
  },
  {
   "cell_type": "markdown",
   "metadata": {},
   "source": [
    "# Vectorial operations\n",
    "Performed element-wise on one array, returning another array with the results"
   ]
  },
  {
   "cell_type": "code",
   "execution_count": 315,
   "metadata": {
    "ExecuteTime": {
     "end_time": "2017-08-02T13:01:05.023562Z",
     "start_time": "2017-08-02T13:01:05.014679Z"
    }
   },
   "outputs": [
    {
     "data": {
      "text/plain": [
       "array([ 1.,  2.,  3.,  2.,  4.])"
      ]
     },
     "execution_count": 315,
     "metadata": {},
     "output_type": "execute_result"
    }
   ],
   "source": [
    "# square root of entries\n",
    "np.sqrt(y)"
   ]
  },
  {
   "cell_type": "code",
   "execution_count": 316,
   "metadata": {
    "ExecuteTime": {
     "end_time": "2017-08-02T13:01:05.134455Z",
     "start_time": "2017-08-02T13:01:05.124841Z"
    }
   },
   "outputs": [
    {
     "data": {
      "text/plain": [
       "array([100,  81,  64,  49,  36])"
      ]
     },
     "execution_count": 316,
     "metadata": {},
     "output_type": "execute_result"
    }
   ],
   "source": [
    "# square of entries\n",
    "x**2"
   ]
  },
  {
   "cell_type": "code",
   "execution_count": 317,
   "metadata": {
    "ExecuteTime": {
     "end_time": "2017-08-02T13:01:05.227140Z",
     "start_time": "2017-08-02T13:01:05.218053Z"
    }
   },
   "outputs": [
    {
     "data": {
      "text/plain": [
       "array([1000,  729, -512,  343,  216])"
      ]
     },
     "execution_count": 317,
     "metadata": {},
     "output_type": "execute_result"
    }
   ],
   "source": [
    "# entries to the power 3\n",
    "x**3"
   ]
  },
  {
   "cell_type": "code",
   "execution_count": 318,
   "metadata": {
    "ExecuteTime": {
     "end_time": "2017-08-02T13:01:05.335774Z",
     "start_time": "2017-08-02T13:01:05.327013Z"
    }
   },
   "outputs": [
    {
     "data": {
      "text/plain": [
       "array([10,  9,  8,  7,  6])"
      ]
     },
     "execution_count": 318,
     "metadata": {},
     "output_type": "execute_result"
    }
   ],
   "source": [
    "# absolute values of entries\n",
    "np.abs(x)"
   ]
  },
  {
   "cell_type": "code",
   "execution_count": 319,
   "metadata": {
    "ExecuteTime": {
     "end_time": "2017-08-02T13:01:05.386397Z",
     "start_time": "2017-08-02T13:01:05.377141Z"
    }
   },
   "outputs": [
    {
     "data": {
      "text/plain": [
       "array([ 0.   ,  1.386,  2.197,  1.386,  2.773])"
      ]
     },
     "execution_count": 319,
     "metadata": {},
     "output_type": "execute_result"
    }
   ],
   "source": [
    "# logarithm of entries\n",
    "np.log(y)"
   ]
  },
  {
   "cell_type": "code",
   "execution_count": 320,
   "metadata": {
    "ExecuteTime": {
     "end_time": "2017-08-02T13:01:05.484794Z",
     "start_time": "2017-08-02T13:01:05.476233Z"
    }
   },
   "outputs": [
    {
     "data": {
      "text/plain": [
       "array([  2.718e+00,   5.460e+01,   8.103e+03,   5.460e+01,   8.886e+06])"
      ]
     },
     "execution_count": 320,
     "metadata": {},
     "output_type": "execute_result"
    }
   ],
   "source": [
    "# exponential of entries\n",
    "np.exp(y)"
   ]
  },
  {
   "cell_type": "code",
   "execution_count": 321,
   "metadata": {
    "ExecuteTime": {
     "end_time": "2017-08-02T13:01:05.551289Z",
     "start_time": "2017-08-02T13:01:05.543597Z"
    }
   },
   "outputs": [
    {
     "data": {
      "text/plain": [
       "array([-10,  -9,   8,  -7,  -6])"
      ]
     },
     "execution_count": 321,
     "metadata": {},
     "output_type": "execute_result"
    }
   ],
   "source": [
    "# opposite of entries\n",
    "-x"
   ]
  },
  {
   "cell_type": "code",
   "execution_count": 322,
   "metadata": {
    "ExecuteTime": {
     "end_time": "2017-08-02T13:01:05.656958Z",
     "start_time": "2017-08-02T13:01:05.647824Z"
    }
   },
   "outputs": [
    {
     "data": {
      "text/plain": [
       "array([ 0.1  ,  0.111, -0.125,  0.143,  0.167])"
      ]
     },
     "execution_count": 322,
     "metadata": {},
     "output_type": "execute_result"
    }
   ],
   "source": [
    "# inverse of entries\n",
    "1 / x"
   ]
  },
  {
   "cell_type": "code",
   "execution_count": 383,
   "metadata": {
    "ExecuteTime": {
     "end_time": "2017-08-03T11:54:53.544855Z",
     "start_time": "2017-08-03T11:54:53.535179Z"
    }
   },
   "outputs": [
    {
     "data": {
      "text/plain": [
       "array([11, 10, -7,  8,  7])"
      ]
     },
     "execution_count": 383,
     "metadata": {},
     "output_type": "execute_result"
    }
   ],
   "source": [
    "# Add 1 to each entry\n",
    "1 + x"
   ]
  },
  {
   "cell_type": "markdown",
   "metadata": {},
   "source": [
    "## Cumulatve Sum and Product"
   ]
  },
  {
   "cell_type": "code",
   "execution_count": 384,
   "metadata": {
    "ExecuteTime": {
     "end_time": "2017-08-03T11:54:58.043780Z",
     "start_time": "2017-08-03T11:54:58.034474Z"
    }
   },
   "outputs": [
    {
     "data": {
      "text/plain": [
       "array([    10,     90,   -720,  -5040, -30240])"
      ]
     },
     "execution_count": 384,
     "metadata": {},
     "output_type": "execute_result"
    }
   ],
   "source": [
    "# Computes the cumulative product\n",
    "np.cumprod(x)"
   ]
  },
  {
   "cell_type": "code",
   "execution_count": 385,
   "metadata": {
    "ExecuteTime": {
     "end_time": "2017-08-03T11:54:58.883411Z",
     "start_time": "2017-08-03T11:54:58.874117Z"
    }
   },
   "outputs": [
    {
     "data": {
      "text/plain": [
       "array([10, 19, 11, 18, 24])"
      ]
     },
     "execution_count": 385,
     "metadata": {},
     "output_type": "execute_result"
    }
   ],
   "source": [
    "# Computes the cumulative sum\n",
    "np.cumsum(x)"
   ]
  },
  {
   "cell_type": "markdown",
   "metadata": {},
   "source": [
    "## Roll"
   ]
  },
  {
   "cell_type": "code",
   "execution_count": 364,
   "metadata": {
    "ExecuteTime": {
     "end_time": "2017-08-03T11:41:34.518752Z",
     "start_time": "2017-08-03T11:41:34.507490Z"
    }
   },
   "outputs": [
    {
     "data": {
      "text/plain": [
       "array([ 6, 10,  9, -8,  7])"
      ]
     },
     "execution_count": 364,
     "metadata": {},
     "output_type": "execute_result"
    }
   ],
   "source": [
    "# Shifted array\n",
    "np.roll(x, 1)"
   ]
  },
  {
   "cell_type": "code",
   "execution_count": 365,
   "metadata": {
    "ExecuteTime": {
     "end_time": "2017-08-03T11:42:09.776322Z",
     "start_time": "2017-08-03T11:42:09.767935Z"
    }
   },
   "outputs": [
    {
     "data": {
      "text/plain": [
       "array([ 7,  6, 10,  9, -8])"
      ]
     },
     "execution_count": 365,
     "metadata": {},
     "output_type": "execute_result"
    }
   ],
   "source": [
    "# Shifted array (2)\n",
    "np.roll(x, 2)"
   ]
  },
  {
   "cell_type": "code",
   "execution_count": 370,
   "metadata": {
    "ExecuteTime": {
     "end_time": "2017-08-03T11:45:16.359528Z",
     "start_time": "2017-08-03T11:45:16.347962Z"
    }
   },
   "outputs": [
    {
     "data": {
      "text/plain": [
       "array([ nan,  nan,  10.,   9.,  -8.])"
      ]
     },
     "execution_count": 370,
     "metadata": {},
     "output_type": "execute_result"
    }
   ],
   "source": [
    "# Shifted array (putting NaN in the beginning)\n",
    "z = np.roll(x, 2)\n",
    "z = np.concatenate( [np.zeros(2)*np.nan, z[2:]] )\n",
    "z"
   ]
  },
  {
   "cell_type": "markdown",
   "metadata": {},
   "source": [
    "# Binary operations\n",
    "Performed element-wise on two arrays, returning another array with the results"
   ]
  },
  {
   "cell_type": "code",
   "execution_count": 323,
   "metadata": {
    "ExecuteTime": {
     "end_time": "2017-08-02T13:01:06.397359Z",
     "start_time": "2017-08-02T13:01:06.388250Z"
    }
   },
   "outputs": [
    {
     "data": {
      "text/plain": [
       "array([11, 13,  1, 11, 22])"
      ]
     },
     "execution_count": 323,
     "metadata": {},
     "output_type": "execute_result"
    }
   ],
   "source": [
    "x + y # sums of entries"
   ]
  },
  {
   "cell_type": "code",
   "execution_count": 324,
   "metadata": {
    "ExecuteTime": {
     "end_time": "2017-08-02T13:01:06.582969Z",
     "start_time": "2017-08-02T13:01:06.573128Z"
    }
   },
   "outputs": [
    {
     "data": {
      "text/plain": [
       "array([  9,   5, -17,   3, -10])"
      ]
     },
     "execution_count": 324,
     "metadata": {},
     "output_type": "execute_result"
    }
   ],
   "source": [
    "x - y # differences of entries"
   ]
  },
  {
   "cell_type": "code",
   "execution_count": 325,
   "metadata": {
    "ExecuteTime": {
     "end_time": "2017-08-02T13:01:06.795876Z",
     "start_time": "2017-08-02T13:01:06.785763Z"
    }
   },
   "outputs": [
    {
     "data": {
      "text/plain": [
       "array([ 10,  36, -72,  28,  96])"
      ]
     },
     "execution_count": 325,
     "metadata": {},
     "output_type": "execute_result"
    }
   ],
   "source": [
    "x * y # products of entries"
   ]
  },
  {
   "cell_type": "code",
   "execution_count": 328,
   "metadata": {
    "ExecuteTime": {
     "end_time": "2017-08-02T13:01:11.675048Z",
     "start_time": "2017-08-02T13:01:11.663221Z"
    }
   },
   "outputs": [
    {
     "data": {
      "text/plain": [
       "array([ 10.   ,   2.25 ,  -0.889,   1.75 ,   0.375])"
      ]
     },
     "execution_count": 328,
     "metadata": {},
     "output_type": "execute_result"
    }
   ],
   "source": [
    "x / y # ratios of entries"
   ]
  },
  {
   "cell_type": "code",
   "execution_count": 329,
   "metadata": {
    "ExecuteTime": {
     "end_time": "2017-08-02T13:01:13.496728Z",
     "start_time": "2017-08-02T13:01:13.489140Z"
    }
   },
   "outputs": [
    {
     "data": {
      "text/plain": [
       "array([ 1,  4, -8,  4,  6])"
      ]
     },
     "execution_count": 329,
     "metadata": {},
     "output_type": "execute_result"
    }
   ],
   "source": [
    "np.minimum(x, y) # minimum of entries"
   ]
  },
  {
   "cell_type": "code",
   "execution_count": 330,
   "metadata": {
    "ExecuteTime": {
     "end_time": "2017-08-02T13:01:14.061178Z",
     "start_time": "2017-08-02T13:01:14.051892Z"
    }
   },
   "outputs": [
    {
     "data": {
      "text/plain": [
       "array([10,  9,  9,  7, 16])"
      ]
     },
     "execution_count": 330,
     "metadata": {},
     "output_type": "execute_result"
    }
   ],
   "source": [
    "np.maximum(x, y) # maximum of entries"
   ]
  },
  {
   "cell_type": "markdown",
   "metadata": {},
   "source": [
    "# Where\n",
    "'np.where' is conceptually similar to an 'if' and can be used to generate arrays based on given conditions"
   ]
  },
  {
   "cell_type": "code",
   "execution_count": 331,
   "metadata": {
    "ExecuteTime": {
     "end_time": "2017-08-02T13:01:14.838622Z",
     "start_time": "2017-08-02T13:01:14.829750Z"
    }
   },
   "outputs": [
    {
     "data": {
      "text/plain": [
       "array([ 1,  1, -1,  1,  1])"
      ]
     },
     "execution_count": 331,
     "metadata": {},
     "output_type": "execute_result"
    }
   ],
   "source": [
    "np.where( x > 0, 1, -1)"
   ]
  },
  {
   "cell_type": "code",
   "execution_count": 332,
   "metadata": {
    "ExecuteTime": {
     "end_time": "2017-08-02T13:01:15.156575Z",
     "start_time": "2017-08-02T13:01:15.149277Z"
    }
   },
   "outputs": [
    {
     "data": {
      "text/plain": [
       "array(['Positive', 'Positive', 'Negative', 'Positive', 'Positive'], \n",
       "      dtype='<U8')"
      ]
     },
     "execution_count": 332,
     "metadata": {},
     "output_type": "execute_result"
    }
   ],
   "source": [
    "np.where( x > 0, 'Positive', 'Negative')"
   ]
  },
  {
   "cell_type": "code",
   "execution_count": 333,
   "metadata": {
    "ExecuteTime": {
     "end_time": "2017-08-02T13:01:15.435890Z",
     "start_time": "2017-08-02T13:01:15.427156Z"
    }
   },
   "outputs": [
    {
     "data": {
      "text/plain": [
       "array(['High', 'Medium', 'Low', 'Medium', 'Low'], \n",
       "      dtype='<U6')"
      ]
     },
     "execution_count": 333,
     "metadata": {},
     "output_type": "execute_result"
    }
   ],
   "source": [
    "# they can be nested iside each other to achieve more complex logic\n",
    "np.where( x > 9, 'High', np.where( x > 6, 'Medium', 'Low' ))"
   ]
  },
  {
   "cell_type": "markdown",
   "metadata": {},
   "source": [
    "## np.unique()"
   ]
  },
  {
   "cell_type": "code",
   "execution_count": 334,
   "metadata": {
    "ExecuteTime": {
     "end_time": "2017-08-02T13:01:16.180254Z",
     "start_time": "2017-08-02T13:01:16.168799Z"
    }
   },
   "outputs": [
    {
     "data": {
      "text/plain": [
       "array([1, 2, 3, 5])"
      ]
     },
     "execution_count": 334,
     "metadata": {},
     "output_type": "execute_result"
    }
   ],
   "source": [
    "z = np.array([1,2,3,3,3,5])\n",
    "np.unique(z) # unique values of the array (removes duplicates)"
   ]
  },
  {
   "cell_type": "markdown",
   "metadata": {},
   "source": [
    "## Itrerables\n",
    "elements of an array can be iterated over, in a for loop of in a list comprehension"
   ]
  },
  {
   "cell_type": "code",
   "execution_count": 335,
   "metadata": {
    "ExecuteTime": {
     "end_time": "2017-08-02T13:01:16.713312Z",
     "start_time": "2017-08-02T13:01:16.701396Z"
    }
   },
   "outputs": [
    {
     "data": {
      "text/plain": [
       "[20, 18, -16, 14, 12]"
      ]
     },
     "execution_count": 335,
     "metadata": {},
     "output_type": "execute_result"
    }
   ],
   "source": [
    "[ 2*a for a in x ] # List comprehension"
   ]
  },
  {
   "cell_type": "code",
   "execution_count": 336,
   "metadata": {
    "ExecuteTime": {
     "end_time": "2017-08-02T13:01:16.899572Z",
     "start_time": "2017-08-02T13:01:16.891399Z"
    }
   },
   "outputs": [
    {
     "data": {
      "text/plain": [
       "[20, 18, 14, 12]"
      ]
     },
     "execution_count": 336,
     "metadata": {},
     "output_type": "execute_result"
    }
   ],
   "source": [
    "[ 2*a for a in x if a > 0 ] # List comprehension with condition"
   ]
  },
  {
   "cell_type": "code",
   "execution_count": 337,
   "metadata": {
    "ExecuteTime": {
     "end_time": "2017-08-02T13:01:17.115327Z",
     "start_time": "2017-08-02T13:01:17.103968Z"
    }
   },
   "outputs": [
    {
     "name": "stdout",
     "output_type": "stream",
     "text": [
      "10 • 9 • -8 • 7 • 6 • "
     ]
    }
   ],
   "source": [
    "for a in x:\n",
    "    print(a, end=' • ')"
   ]
  },
  {
   "cell_type": "code",
   "execution_count": 338,
   "metadata": {
    "ExecuteTime": {
     "end_time": "2017-08-02T13:01:17.307659Z",
     "start_time": "2017-08-02T13:01:17.296429Z"
    }
   },
   "outputs": [
    {
     "name": "stdout",
     "output_type": "stream",
     "text": [
      "We have 10 \t on position 0 of x\n",
      "We have 9 \t on position 1 of x\n",
      "We have -8 \t on position 2 of x\n",
      "We have 7 \t on position 3 of x\n",
      "We have 6 \t on position 4 of x\n"
     ]
    }
   ],
   "source": [
    "for i, a in enumerate(x):\n",
    "    print(\"We have %d \\t on position %d of x\"%(a,i))"
   ]
  },
  {
   "cell_type": "markdown",
   "metadata": {},
   "source": [
    "# Plot"
   ]
  },
  {
   "cell_type": "code",
   "execution_count": 377,
   "metadata": {
    "ExecuteTime": {
     "end_time": "2017-08-03T11:47:08.504890Z",
     "start_time": "2017-08-03T11:47:08.266574Z"
    }
   },
   "outputs": [
    {
     "name": "stdout",
     "output_type": "stream",
     "text": [
      "Populating the interactive namespace from numpy and matplotlib\n"
     ]
    },
    {
     "data": {
      "image/png": "[encoded data removed]",
      "text/plain": [
       "<matplotlib.figure.Figure at 0x116665978>"
      ]
     },
     "metadata": {},
     "output_type": "display_data"
    }
   ],
   "source": [
    "%pylab inline\n",
    "import matplotlib.pyplot as plt\n",
    "plt.plot( x );"
   ]
  },
  {
   "cell_type": "markdown",
   "metadata": {},
   "source": [
    "# Exercise (solved)\n",
    "Consider an array $r$ with returns over 1 year (in percentage) of different investment opportunities"
   ]
  },
  {
   "cell_type": "code",
   "execution_count": 339,
   "metadata": {
    "ExecuteTime": {
     "end_time": "2017-08-02T13:01:18.100464Z",
     "start_time": "2017-08-02T13:01:18.095245Z"
    },
    "collapsed": true
   },
   "outputs": [],
   "source": [
    "r = np.array([ 0.05, 0.1, -0.15, 0.2 ])  # 5% profit, 10% profit, 15% loss, ..."
   ]
  },
  {
   "cell_type": "markdown",
   "metadata": {},
   "source": [
    "## What is the returns of an equally weighted portfolio of all the investments?"
   ]
  },
  {
   "cell_type": "code",
   "execution_count": 340,
   "metadata": {
    "ExecuteTime": {
     "end_time": "2017-08-02T13:01:18.533630Z",
     "start_time": "2017-08-02T13:01:18.521612Z"
    }
   },
   "outputs": [
    {
     "data": {
      "text/plain": [
       "0.050"
      ]
     },
     "execution_count": 340,
     "metadata": {},
     "output_type": "execute_result"
    }
   ],
   "source": [
    "# It is just the average of the returns of all the investments\n",
    "np.mean(r)"
   ]
  },
  {
   "cell_type": "code",
   "execution_count": 341,
   "metadata": {
    "ExecuteTime": {
     "end_time": "2017-08-02T13:01:18.731227Z",
     "start_time": "2017-08-02T13:01:18.721540Z"
    }
   },
   "outputs": [
    {
     "data": {
      "text/plain": [
       "0.050"
      ]
     },
     "execution_count": 341,
     "metadata": {},
     "output_type": "execute_result"
    }
   ],
   "source": [
    "# or, equivalently\n",
    "np.sum(r) / len(r)"
   ]
  },
  {
   "cell_type": "markdown",
   "metadata": {},
   "source": [
    "## What is the return of a portfolio with 40% of capital invested in each of the first 2 investments, and 10% in each of the other ones?"
   ]
  },
  {
   "cell_type": "code",
   "execution_count": 342,
   "metadata": {
    "ExecuteTime": {
     "end_time": "2017-08-02T13:01:19.816325Z",
     "start_time": "2017-08-02T13:01:19.810726Z"
    },
    "collapsed": true
   },
   "outputs": [],
   "source": [
    "# first we create the 'portfolio weights'\n",
    "w = np.array([0.4, 0.4, 0.1, 0.1])"
   ]
  },
  {
   "cell_type": "code",
   "execution_count": 343,
   "metadata": {
    "ExecuteTime": {
     "end_time": "2017-08-02T13:01:20.368215Z",
     "start_time": "2017-08-02T13:01:20.359230Z"
    }
   },
   "outputs": [
    {
     "data": {
      "text/plain": [
       "1.000"
      ]
     },
     "execution_count": 343,
     "metadata": {},
     "output_type": "execute_result"
    }
   ],
   "source": [
    "# Notice that they sum to 1 (or 100%)\n",
    "np.sum(w)"
   ]
  },
  {
   "cell_type": "code",
   "execution_count": 344,
   "metadata": {
    "ExecuteTime": {
     "end_time": "2017-08-02T13:01:21.767349Z",
     "start_time": "2017-08-02T13:01:21.758215Z"
    }
   },
   "outputs": [
    {
     "data": {
      "text/plain": [
       "0.065"
      ]
     },
     "execution_count": 344,
     "metadata": {},
     "output_type": "execute_result"
    }
   ],
   "source": [
    "# Then we compute the weighted average to get the total profit of the portfolio\n",
    "np.sum( w * r )"
   ]
  },
  {
   "cell_type": "markdown",
   "metadata": {},
   "source": [
    "# Exercise 2 - Ethereum high frequency\n",
    "Trading strategy on Ethereum, with 5 seconds frequency"
   ]
  },
  {
   "cell_type": "code",
   "execution_count": 359,
   "metadata": {
    "ExecuteTime": {
     "end_time": "2017-08-03T11:30:55.995540Z",
     "start_time": "2017-08-03T11:30:55.647396Z"
    }
   },
   "outputs": [],
   "source": [
    "# Ethereum price (in bitcoins) every 5 minutes, for the year 2016\n",
    "P = np.genfromtxt('ETH_2016.csv', delimiter=',')"
   ]
  },
  {
   "cell_type": "code",
   "execution_count": 360,
   "metadata": {
    "ExecuteTime": {
     "end_time": "2017-08-03T11:30:58.805743Z",
     "start_time": "2017-08-03T11:30:58.794909Z"
    }
   },
   "outputs": [
    {
     "name": "stdout",
     "output_type": "stream",
     "text": [
      "There are 105120 5-minute intervals in 1 year.\n",
      "Our ETH array has 105121 elements.\n",
      "Makes sense!\n"
     ]
    }
   ],
   "source": [
    "# How many observations?\n",
    "T = 365 * 24 * 60 / 5\n",
    "print('There are %d 5-minute intervals in 1 year.'%T)\n",
    "print('Our ETH array has %d elements.'%len(P))\n",
    "print(\"Makes sense!\")"
   ]
  },
  {
   "cell_type": "code",
   "execution_count": 361,
   "metadata": {
    "ExecuteTime": {
     "end_time": "2017-08-03T11:31:01.576426Z",
     "start_time": "2017-08-03T11:31:01.568459Z"
    }
   },
   "outputs": [
    {
     "ename": "SyntaxError",
     "evalue": "invalid syntax (<ipython-input-361-590aba3d9e88>, line 2)",
     "output_type": "error",
     "traceback": [
      "\u001b[0;36m  File \u001b[0;32m\"<ipython-input-361-590aba3d9e88>\"\u001b[0;36m, line \u001b[0;32m2\u001b[0m\n\u001b[0;31m    R = ???\u001b[0m\n\u001b[0m        ^\u001b[0m\n\u001b[0;31mSyntaxError\u001b[0m\u001b[0;31m:\u001b[0m invalid syntax\n"
     ]
    }
   ],
   "source": [
    "# Construct an array containing the time series of 5-minute returns\n",
    "R = ???"
   ]
  },
  {
   "cell_type": "markdown",
   "metadata": {},
   "source": [
    "## Signal\n",
    "\n",
    "Construct an array with a 'signal' $S$, which equals one if the price movements in the previous period are both positive.\n",
    "In other words, $S$ is defined as follows:\n",
    "\n",
    "$$ S[t] = 1 \\;\\;\\text{ if }\\;\\; R[t-1]>0 \\;\\;\\text{ and }\\;\\; R[t-2]>0 $$\n",
    "\n",
    "$$ S[t] = 0 \\;\\;\\text{ otherwise } $$ \n",
    "\n",
    "** Hint: ** Use [where](#Where) and [Roll](#Roll)"
   ]
  },
  {
   "cell_type": "code",
   "execution_count": 378,
   "metadata": {
    "ExecuteTime": {
     "end_time": "2017-08-03T11:48:09.952498Z",
     "start_time": "2017-08-03T11:48:09.946053Z"
    }
   },
   "outputs": [
    {
     "ename": "SyntaxError",
     "evalue": "invalid syntax (<ipython-input-378-96834c8b2c36>, line 1)",
     "output_type": "error",
     "traceback": [
      "\u001b[0;36m  File \u001b[0;32m\"<ipython-input-378-96834c8b2c36>\"\u001b[0;36m, line \u001b[0;32m1\u001b[0m\n\u001b[0;31m    S = ???\u001b[0m\n\u001b[0m        ^\u001b[0m\n\u001b[0;31mSyntaxError\u001b[0m\u001b[0;31m:\u001b[0m invalid syntax\n"
     ]
    }
   ],
   "source": [
    "S = ???"
   ]
  },
  {
   "cell_type": "markdown",
   "metadata": {},
   "source": [
    "## Trading Strategy\n",
    "Construct an array with the 5-minute returns of a strategy which invests in the Ethereum for $5$ seconds when $S=1$ and is not invested when $S=0$.\n",
    "\n",
    "** Hint: ** Consider the product of $S$ and $R$"
   ]
  },
  {
   "cell_type": "code",
   "execution_count": null,
   "metadata": {
    "collapsed": true
   },
   "outputs": [],
   "source": [
    "V = ???"
   ]
  },
  {
   "cell_type": "markdown",
   "metadata": {},
   "source": [
    "## Cumulative Returns\n",
    "Compute and plot the cumulative returns oif the strategy. More precisely, plot the value of $1$ BitCoin invested in this strategy from the begininning of 2016\n",
    "\n",
    "**Hint: ** Add $1$ to $R$ and use the [cumprod](#Cumulatve-Sum-and-Product) function"
   ]
  },
  {
   "cell_type": "code",
   "execution_count": 386,
   "metadata": {
    "ExecuteTime": {
     "end_time": "2017-08-03T11:55:52.847520Z",
     "start_time": "2017-08-03T11:55:52.839805Z"
    }
   },
   "outputs": [
    {
     "ename": "SyntaxError",
     "evalue": "invalid syntax (<ipython-input-386-1d0cb52e4b00>, line 1)",
     "output_type": "error",
     "traceback": [
      "\u001b[0;36m  File \u001b[0;32m\"<ipython-input-386-1d0cb52e4b00>\"\u001b[0;36m, line \u001b[0;32m1\u001b[0m\n\u001b[0;31m    C = ???\u001b[0m\n\u001b[0m        ^\u001b[0m\n\u001b[0;31mSyntaxError\u001b[0m\u001b[0;31m:\u001b[0m invalid syntax\n"
     ]
    }
   ],
   "source": [
    "C = ???\n",
    "plt.plot(C);"
   ]
  },
  {
   "cell_type": "code",
   "execution_count": null,
   "metadata": {
    "collapsed": true
   },
   "outputs": [],
   "source": []
  }
 ],
 "metadata": {
  "kernelspec": {
   "display_name": "Python 3",
   "language": "python",
   "name": "python3"
  },
  "language_info": {
   "codemirror_mode": {
    "name": "ipython",
    "version": 3
   },
   "file_extension": ".py",
   "mimetype": "text/x-python",
   "name": "python",
   "nbconvert_exporter": "python",
   "pygments_lexer": "ipython3",
   "version": "3.6.1"
  },
  "toc": {
   "colors": {
    "hover_highlight": "#DAA520",
    "navigate_num": "#000000",
    "navigate_text": "#333333",
    "running_highlight": "#FF0000",
    "selected_highlight": "#FFD700",
    "sidebar_border": "#EEEEEE",
    "wrapper_background": "#FFFFFF"
   },
   "moveMenuLeft": true,
   "nav_menu": {
    "height": "372px",
    "width": "252px"
   },
   "navigate_menu": true,
   "number_sections": true,
   "sideBar": true,
   "threshold": 4,
   "toc_cell": false,
   "toc_section_display": "block",
   "toc_window_display": false,
   "widenNotebook": false
  }
 },
 "nbformat": 4,
 "nbformat_minor": 2
}
